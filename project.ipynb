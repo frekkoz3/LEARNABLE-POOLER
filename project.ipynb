{
 "cells": [
  {
   "cell_type": "markdown",
   "id": "2410bc5f",
   "metadata": {},
   "source": [
    "# PROJECT"
   ]
  },
  {
   "cell_type": "markdown",
   "id": "37e20e45",
   "metadata": {},
   "source": [
    "## PART 1\n",
    "---\n",
    "*Developing existing pooling operators.*"
   ]
  },
  {
   "cell_type": "markdown",
   "id": "8f55286e",
   "metadata": {},
   "source": [
    "## PART 2\n",
    "---\n",
    "*Developing a new learnable stochastic pooling operators.*"
   ]
  }
 ],
 "metadata": {
  "language_info": {
   "name": "python"
  }
 },
 "nbformat": 4,
 "nbformat_minor": 5
}
